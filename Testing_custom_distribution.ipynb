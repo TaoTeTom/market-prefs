{
 "cells": [
  {
   "cell_type": "code",
   "execution_count": 1,
   "metadata": {},
   "outputs": [],
   "source": [
    "from scipy import stats\n",
    "import numpy as np"
   ]
  },
  {
   "cell_type": "code",
   "execution_count": 53,
   "metadata": {},
   "outputs": [
    {
     "data": {
      "image/png": "[encoded data removed]",
      "text/plain": [
       "<Figure size 432x288 with 1 Axes>"
      ]
     },
     "metadata": {
      "needs_background": "light"
     },
     "output_type": "display_data"
    },
    {
     "data": {
      "text/plain": [
       "(array([24.,  0.,  0.,  0.,  0., 41.,  0.,  0.,  0., 35.]),\n",
       " array([  0.,  50., 100., 150., 200., 250., 300., 350., 400., 450., 500.]),\n",
       " <a list of 10 Patch objects>)"
      ]
     },
     "execution_count": 53,
     "metadata": {},
     "output_type": "execute_result"
    },
    {
     "data": {
      "image/png": "[encoded data removed]",
      "text/plain": [
       "<Figure size 432x288 with 1 Axes>"
      ]
     },
     "metadata": {
      "needs_background": "light"
     },
     "output_type": "display_data"
    }
   ],
   "source": [
    "xk = [0, 250, 500]\n",
    "pk = (.25, .5, .25)\n",
    "\n",
    "def get_dist(xk, pk):\n",
    "    return stats.rv_discrete(name='custm', values=(xk, pk))\n",
    "\n",
    "custm = get_dist(xk, pk)\n",
    "import matplotlib.pyplot as plt\n",
    "fig, ax = plt.subplots(1, 1)\n",
    "ax.plot(xk, custm.pmf(xk), 'ro', ms=12, mec='r')\n",
    "ax.vlines(xk, 0, custm.pmf(xk), colors='r', lw=4)\n",
    "plt.show()\n",
    "\n",
    "R = custm.rvs(size=100)\n",
    "plt.hist(R)\n",
    "\n"
   ]
  },
  {
   "cell_type": "code",
   "execution_count": 55,
   "metadata": {},
   "outputs": [
    {
     "data": {
      "text/plain": [
       "250"
      ]
     },
     "execution_count": 55,
     "metadata": {},
     "output_type": "execute_result"
    }
   ],
   "source": [
    "custm.rvs()"
   ]
  },
  {
   "cell_type": "code",
   "execution_count": 2,
   "metadata": {},
   "outputs": [
    {
     "name": "stdout",
     "output_type": "stream",
     "text": [
      "(1, 1, '18', 10, 0, 0, 40, 18)\n",
      "(2, -1, '16', 10, 0, 0, 41, 18)\n",
      "(3, 1, '16', 10, 10, 0, 46, 21)\n",
      "(4, -1, '18', 12, 10, 0, 47, 21)\n",
      "(5, -1, '30', 1, 1, 0, 48, 22)\n",
      "(6, 1, '30', 1, 1, 0, 49, 22)\n",
      "(7, -1, '33', 32, 0, 1, 50, 23)\n",
      "['id', 'order_type', 'price', 'quantity', 'quantity_final', 'is_buy_in', 'player_id', 'group_id']\n"
     ]
    }
   ],
   "source": [
    "import sqlite3\n",
    "con = sqlite3.connect(\"db.sqlite3\")\n",
    "cur = con.cursor()\n",
    "\n",
    "for row in cur.execute('SELECT * from rounds_order'):\n",
    "    print(row)\n",
    "print([x[0] for x in cur.description])\n",
    "# Be sure to close the connection\n",
    "con.close()"
   ]
  },
  {
   "cell_type": "code",
   "execution_count": 38,
   "metadata": {},
   "outputs": [
    {
     "data": {
      "text/html": [
       "<div>\n",
       "<style scoped>\n",
       "    .dataframe tbody tr th:only-of-type {\n",
       "        vertical-align: middle;\n",
       "    }\n",
       "\n",
       "    .dataframe tbody tr th {\n",
       "        vertical-align: top;\n",
       "    }\n",
       "\n",
       "    .dataframe thead th {\n",
       "        text-align: right;\n",
       "    }\n",
       "</style>\n",
       "<table border=\"1\" class=\"dataframe\">\n",
       "  <thead>\n",
       "    <tr style=\"text-align: right;\">\n",
       "      <th></th>\n",
       "      <th>id</th>\n",
       "      <th>order_type</th>\n",
       "      <th>price</th>\n",
       "      <th>quantity</th>\n",
       "      <th>quantity_final</th>\n",
       "      <th>is_buy_in</th>\n",
       "      <th>player_id</th>\n",
       "      <th>group_id</th>\n",
       "      <th>id_in_group</th>\n",
       "      <th>round_number</th>\n",
       "      <th>session_id</th>\n",
       "      <th>shares_transacted</th>\n",
       "    </tr>\n",
       "  </thead>\n",
       "  <tbody>\n",
       "    <tr>\n",
       "      <td>0</td>\n",
       "      <td>8</td>\n",
       "      <td>-1</td>\n",
       "      <td>1540</td>\n",
       "      <td>3</td>\n",
       "      <td>0</td>\n",
       "      <td>1</td>\n",
       "      <td>59</td>\n",
       "      <td>27</td>\n",
       "      <td>2</td>\n",
       "      <td>2</td>\n",
       "      <td>6</td>\n",
       "      <td>0</td>\n",
       "    </tr>\n",
       "    <tr>\n",
       "      <td>1</td>\n",
       "      <td>9</td>\n",
       "      <td>1</td>\n",
       "      <td>2000</td>\n",
       "      <td>5</td>\n",
       "      <td>1</td>\n",
       "      <td>0</td>\n",
       "      <td>60</td>\n",
       "      <td>28</td>\n",
       "      <td>1</td>\n",
       "      <td>3</td>\n",
       "      <td>6</td>\n",
       "      <td>-1</td>\n",
       "    </tr>\n",
       "    <tr>\n",
       "      <td>2</td>\n",
       "      <td>10</td>\n",
       "      <td>-1</td>\n",
       "      <td>2200</td>\n",
       "      <td>3</td>\n",
       "      <td>3</td>\n",
       "      <td>1</td>\n",
       "      <td>61</td>\n",
       "      <td>28</td>\n",
       "      <td>2</td>\n",
       "      <td>3</td>\n",
       "      <td>6</td>\n",
       "      <td>5</td>\n",
       "    </tr>\n",
       "    <tr>\n",
       "      <td>3</td>\n",
       "      <td>11</td>\n",
       "      <td>-1</td>\n",
       "      <td>2200</td>\n",
       "      <td>1</td>\n",
       "      <td>1</td>\n",
       "      <td>1</td>\n",
       "      <td>61</td>\n",
       "      <td>28</td>\n",
       "      <td>2</td>\n",
       "      <td>3</td>\n",
       "      <td>6</td>\n",
       "      <td>5</td>\n",
       "    </tr>\n",
       "    <tr>\n",
       "      <td>4</td>\n",
       "      <td>12</td>\n",
       "      <td>-1</td>\n",
       "      <td>2200</td>\n",
       "      <td>1</td>\n",
       "      <td>1</td>\n",
       "      <td>1</td>\n",
       "      <td>61</td>\n",
       "      <td>28</td>\n",
       "      <td>2</td>\n",
       "      <td>3</td>\n",
       "      <td>6</td>\n",
       "      <td>5</td>\n",
       "    </tr>\n",
       "  </tbody>\n",
       "</table>\n",
       "</div>"
      ],
      "text/plain": [
       "   id  order_type price  quantity  quantity_final  is_buy_in  player_id  \\\n",
       "0   8          -1  1540         3               0          1         59   \n",
       "1   9           1  2000         5               1          0         60   \n",
       "2  10          -1  2200         3               3          1         61   \n",
       "3  11          -1  2200         1               1          1         61   \n",
       "4  12          -1  2200         1               1          1         61   \n",
       "\n",
       "   group_id  id_in_group  round_number  session_id  shares_transacted  \n",
       "0        27            2             2           6                  0  \n",
       "1        28            1             3           6                 -1  \n",
       "2        28            2             3           6                  5  \n",
       "3        28            2             3           6                  5  \n",
       "4        28            2             3           6                  5  "
      ]
     },
     "execution_count": 38,
     "metadata": {},
     "output_type": "execute_result"
    }
   ],
   "source": [
    "import pandas as pd\n",
    "import contextlib\n",
    "\n",
    "def get_df_for_q(q):\n",
    "    with contextlib.closing(sqlite3.connect(\"db.sqlite3\")) as con:\n",
    "        df = pd.read_sql(q, con)\n",
    "\n",
    "    return df\n",
    "\n",
    "#get_df_for_q('SELECT * FROM rounds_player WHERE session_id = 6')\n",
    "\n",
    "get_df_for_q('''\n",
    "SELECT o.*, p.id_in_group, p.round_number, p.session_id , p.shares_transacted\n",
    "FROM rounds_player p JOIN rounds_order o ON p.id = o.player_id \n",
    "WHERE p.session_id = 6''' )\n",
    "\n",
    "#get_df_for_q('select * from sqlite_master where type=\"table\"')\n"
   ]
  }
 ],
 "metadata": {
  "kernelspec": {
   "display_name": "Python 3",
   "language": "python",
   "name": "python3"
  },
  "language_info": {
   "codemirror_mode": {
    "name": "ipython",
    "version": 3
   },
   "file_extension": ".py",
   "mimetype": "text/x-python",
   "name": "python",
   "nbconvert_exporter": "python",
   "pygments_lexer": "ipython3",
   "version": "3.7.4"
  }
 },
 "nbformat": 4,
 "nbformat_minor": 2
}
