{
 "cells": [
  {
   "cell_type": "markdown",
   "source": [
    "# SET UP MESSAGE VARIABLES"
   ],
   "metadata": {
    "collapsed": false
   }
  },
  {
   "cell_type": "code",
   "execution_count": 13,
   "outputs": [],
   "source": [
    "IS_PILOT = True\n",
    "worker_ids = [\n",
    "        'A2R23NV00BNUH4',\n",
    "    ]\n",
    "\n",
    "if IS_PILOT:\n",
    "    subject = 'VT Market Experiment - Pilot Study'\n",
    "    data = dict(\n",
    "        is_pilot = True,\n",
    "        date = 'June 17, 2022',\n",
    "        time = '3:00 PM',\n",
    "        start_time = '2:55 PM',\n",
    "        hit_name = 'VT Market Experiment Pilot',\n",
    "        N = 6,\n",
    "        one_less = 5,\n",
    "        duration = 1,\n",
    "        part_fee = '$8.00'\n",
    "    )\n",
    "else:\n",
    "    subject = 'VT Market Experiment'\n",
    "    data = dict(\n",
    "        is_pilot = False,\n",
    "        date = 'June 17, 2022',\n",
    "        time = '3:00 PM',\n",
    "        start_time = '2:55 PM',\n",
    "        hit_name = 'VT Market Experiment',\n",
    "        N = 20,\n",
    "        one_less = 19,\n",
    "        duration = 2,\n",
    "        part_fee = '$12.00'\n",
    "    )"
   ],
   "metadata": {
    "collapsed": false,
    "pycharm": {
     "name": "#%%\n"
    }
   }
  },
  {
   "cell_type": "markdown",
   "source": [
    "# COMPILE THE MESSAGE"
   ],
   "metadata": {
    "collapsed": false
   }
  },
  {
   "cell_type": "code",
   "execution_count": 14,
   "outputs": [
    {
     "name": "stdout",
     "output_type": "stream",
     "text": [
      "Dear Mturk Member,\n",
      "\n",
      "Earlier, you completed a prescreen survey in which you indicated your availability to take part is a market research study conducted by the VT Econ Lab.  We are writing you now to invite you to participate in a session we will run on June 17, 2022, at 3:00 PM EDT.\n",
      "\n",
      "Receiving this invitation does not guarantee a spot in the experiment.  The experiment will be opened starting precisely at 2:55 PM EDT under the HIT Title \"VT Market Experiment Pilot\"and will be available to the first 6 participants to connect to it.\n",
      "\n",
      "=============================\n",
      "About the main experiment\n",
      "=============================\n",
      "\n",
      "    *** This is a pilot study to test our experiment and mturk processes. ***\n",
      "\n",
      "Participants will place buy and sell orders for a stock in a simulated market with 5 other participants (6 in all).  The experiment will take about 1 hours to complete and will consist of the market simulation and a brief survey.\n",
      "\n",
      "Compensation for the experiment will be $8.00 for your time with a possibility to earn bonus payments depending on your performance in the market. To participate you must be 18 years of age or older and able to read and comprehend the English language.\n",
      "\n",
      "=============================\n",
      "Compatibility\n",
      "=============================\n",
      "•\tThe experiment must be run on a laptop or desktop computer.\n",
      "•\tWe recommend using either the Chrome, Firefox, or Safari web browser.  We cannot guarantee proper\n",
      "    performance with IE or Edge.\n",
      "\n",
      "If you have any questions, please write to the organizers of this experiment through the Mturk messaging system.\n"
     ]
    }
   ],
   "source": [
    "from jinja2 import Template\n",
    "\n",
    "# Read in the receipt template\n",
    "with open('message.txt', 'r') as f:\n",
    "    template_str = f.read()\n",
    "\n",
    "# Render the latex with the player data\n",
    "t = Template(template_str)\n",
    "message = t.render(data)\n",
    "print(message)"
   ],
   "metadata": {
    "collapsed": false,
    "pycharm": {
     "name": "#%%\n"
    }
   }
  },
  {
   "cell_type": "markdown",
   "source": [
    "# SEND MESSAGE"
   ],
   "metadata": {
    "collapsed": false
   }
  },
  {
   "cell_type": "code",
   "execution_count": 15,
   "metadata": {
    "collapsed": true
   },
   "outputs": [],
   "source": [
    "import boto3\n",
    "\n",
    "###\n",
    "## Keep credentials in ~/.aws/credentials\n",
    "## Specify a region in ~/.aws/config\n",
    "## See:  https://boto3.amazonaws.com/v1/documentation/api/latest/guide/quickstart.html#configuration\n",
    "\n",
    "client = boto3.client(\n",
    "    'mturk',\n",
    "    endpoint_url='https://mturk-requester-sandbox.us-east-1.amazonaws.com'\n",
    ")\n",
    "\n",
    "res = client.notify_workers(\n",
    "    Subject=subject,\n",
    "    MessageText=message,\n",
    "    WorkerIds=worker_ids\n",
    ")\n",
    "# res = {'NotifyWorkersFailureStatuses': [], 'ResponseMetadata': {'RequestId': 'e76419ac-8fe8-46a7-859d-b2c7bbbef257', 'HTTPStatusCode': 200, 'HTTPHeaders': {'x-amzn-requestid': 'e76419ac-8fe8-46a7-859d-b2c7bbbef257', 'content-type': 'application/x-amz-json-1.1', 'content-length': '35', 'date': 'Fri, 17 Jun 2022 01:13:18 GMT'}, 'RetryAttempts': 0}}"
   ]
  },
  {
   "cell_type": "code",
   "execution_count": 16,
   "outputs": [
    {
     "name": "stdout",
     "output_type": "stream",
     "text": [
      "Request ID: 1e7b1338-5349-457d-8f71-ed478ae2173f\n",
      "HTTPStatusCode 200\n",
      "No Failures\n"
     ]
    }
   ],
   "source": [
    "\n",
    "res_data = res.get('ResponseMetadata')\n",
    "print('Request ID:', res_data.get('RequestId'))\n",
    "print('HTTPStatusCode', res_data.get('HTTPStatusCode'))\n",
    "\n",
    "failures = res.get('NotifyWorkersFailureStatuses')\n",
    "if failures:\n",
    "    for f in failures:\n",
    "        print(f)\n",
    "else:\n",
    "    print('No Failures')"
   ],
   "metadata": {
    "collapsed": false,
    "pycharm": {
     "name": "#%%\n"
    }
   }
  }
 ],
 "metadata": {
  "kernelspec": {
   "display_name": "Python 3",
   "language": "python",
   "name": "python3"
  },
  "language_info": {
   "codemirror_mode": {
    "name": "ipython",
    "version": 2
   },
   "file_extension": ".py",
   "mimetype": "text/x-python",
   "name": "python",
   "nbconvert_exporter": "python",
   "pygments_lexer": "ipython2",
   "version": "2.7.6"
  }
 },
 "nbformat": 4,
 "nbformat_minor": 0
}