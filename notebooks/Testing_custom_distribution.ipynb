{
 "cells": [
  {
   "cell_type": "code",
   "execution_count": 4,
   "metadata": {},
   "outputs": [],
   "source": [
    "from scipy import stats\n",
    "import numpy as np"
   ]
  },
  {
   "cell_type": "code",
   "execution_count": 5,
   "metadata": {},
   "outputs": [
    {
     "data": {
      "text/plain": "<Figure size 432x288 with 1 Axes>",
      "image/png": "[encoded data removed]"
     },
     "metadata": {
      "needs_background": "light"
     },
     "output_type": "display_data"
    },
    {
     "data": {
      "text/plain": "(array([21.,  0.,  0.,  0.,  0., 55.,  0.,  0.,  0., 24.]),\n array([  0.,  50., 100., 150., 200., 250., 300., 350., 400., 450., 500.]),\n <BarContainer object of 10 artists>)"
     },
     "execution_count": 5,
     "metadata": {},
     "output_type": "execute_result"
    },
    {
     "data": {
      "text/plain": "<Figure size 432x288 with 1 Axes>",
      "image/png": "[encoded data removed]"
     },
     "metadata": {
      "needs_background": "light"
     },
     "output_type": "display_data"
    }
   ],
   "source": [
    "xk = [0, 250, 500]\n",
    "pk = (.25, .5, .25)\n",
    "\n",
    "def get_dist(xk, pk):\n",
    "    return stats.rv_discrete(name='custm', values=(xk, pk))\n",
    "\n",
    "custm = get_dist(xk, pk)\n",
    "import matplotlib.pyplot as plt\n",
    "fig, ax = plt.subplots(1, 1)\n",
    "ax.plot(xk, custm.pmf(xk), 'ro', ms=12, mec='r')\n",
    "ax.vlines(xk, 0, custm.pmf(xk), colors='r', lw=4)\n",
    "plt.show()\n",
    "\n",
    "R = custm.rvs(size=100)\n",
    "plt.hist(R)\n",
    "\n"
   ]
  },
  {
   "cell_type": "code",
   "execution_count": 6,
   "metadata": {},
   "outputs": [
    {
     "data": {
      "text/plain": "0"
     },
     "execution_count": 6,
     "metadata": {},
     "output_type": "execute_result"
    }
   ],
   "source": [
    "custm.rvs()"
   ]
  },
  {
   "cell_type": "code",
   "execution_count": 7,
   "metadata": {},
   "outputs": [
    {
     "name": "stdout",
     "output_type": "stream",
     "text": [
      "['id', 'order_type', 'price', 'quantity', 'quantity_final', 'is_buy_in', 'player_id', 'group_id']\n"
     ]
    }
   ],
   "source": [
    "import sqlite3\n",
    "con = sqlite3.connect(\"db.sqlite3\")\n",
    "cur = con.cursor()\n",
    "\n",
    "for row in cur.execute('SELECT * from rounds_order'):\n",
    "    print(row)\n",
    "print([x[0] for x in cur.description])\n",
    "# Be sure to close the connection\n",
    "con.close()"
   ]
  },
  {
   "cell_type": "code",
   "execution_count": 9,
   "metadata": {},
   "outputs": [
    {
     "data": {
      "text/plain": "Empty DataFrame\nColumns: [id, order_type, price, quantity, quantity_final, is_buy_in, player_id, group_id, id_in_group, round_number, session_id, shares_transacted]\nIndex: []",
      "text/html": "<div>\n<style scoped>\n    .dataframe tbody tr th:only-of-type {\n        vertical-align: middle;\n    }\n\n    .dataframe tbody tr th {\n        vertical-align: top;\n    }\n\n    .dataframe thead th {\n        text-align: right;\n    }\n</style>\n<table border=\"1\" class=\"dataframe\">\n  <thead>\n    <tr style=\"text-align: right;\">\n      <th></th>\n      <th>id</th>\n      <th>order_type</th>\n      <th>price</th>\n      <th>quantity</th>\n      <th>quantity_final</th>\n      <th>is_buy_in</th>\n      <th>player_id</th>\n      <th>group_id</th>\n      <th>id_in_group</th>\n      <th>round_number</th>\n      <th>session_id</th>\n      <th>shares_transacted</th>\n    </tr>\n  </thead>\n  <tbody>\n  </tbody>\n</table>\n</div>"
     },
     "execution_count": 9,
     "metadata": {},
     "output_type": "execute_result"
    }
   ],
   "source": [
    "import pandas as pd\n",
    "import contextlib\n",
    "\n",
    "def get_df_for_q(q):\n",
    "    with contextlib.closing(sqlite3.connect(\"db.sqlite3\")) as con:\n",
    "        df = pd.read_sql(q, con)\n",
    "\n",
    "    return df\n",
    "\n",
    "#get_df_for_q('SELECT * FROM rounds_player WHERE session_id = 6')\n",
    "\n",
    "get_df_for_q('''\n",
    "SELECT o.*, p.id_in_group, p.round_number, p.session_id , p.shares_transacted\n",
    "FROM rounds_player p JOIN rounds_order o ON p.id = o.player_id \n",
    "WHERE p.session_id = 10''' )\n",
    "\n",
    "#get_df_for_q('select * from sqlite_master where type=\"table\"')\n",
    "#get_df_for_q('select * from otree_session')\n"
   ]
  }
 ],
 "metadata": {
  "kernelspec": {
   "display_name": "Python 3",
   "language": "python",
   "name": "python3"
  },
  "language_info": {
   "codemirror_mode": {
    "name": "ipython",
    "version": 3
   },
   "file_extension": ".py",
   "mimetype": "text/x-python",
   "name": "python",
   "nbconvert_exporter": "python",
   "pygments_lexer": "ipython3",
   "version": "3.7.4"
  }
 },
 "nbformat": 4,
 "nbformat_minor": 2
}